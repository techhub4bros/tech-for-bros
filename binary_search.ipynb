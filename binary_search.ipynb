{
  "nbformat": 4,
  "nbformat_minor": 0,
  "metadata": {
    "colab": {
      "provenance": [],
      "authorship_tag": "ABX9TyORny63Jq0BY3YkA+ni1KOE",
      "include_colab_link": true
    },
    "kernelspec": {
      "name": "python3",
      "display_name": "Python 3"
    },
    "language_info": {
      "name": "python"
    }
  },
  "cells": [
    {
      "cell_type": "markdown",
      "metadata": {
        "id": "view-in-github",
        "colab_type": "text"
      },
      "source": [
        "<a href=\"https://colab.research.google.com/github/techhub4bros/tech-for-bros/blob/main/binary_search.ipynb\" target=\"_parent\"><img src=\"https://colab.research.google.com/assets/colab-badge.svg\" alt=\"Open In Colab\"/></a>"
      ]
    },
    {
      "cell_type": "code",
      "execution_count": null,
      "metadata": {
        "id": "vcUQIz-okgBp"
      },
      "outputs": [],
      "source": [
        "FUNCTION binary_search(arr : ARRAY_OF INTEGER) : INTEGER\n",
        "VAR\n",
        "   left, right, mid : INTEGER;\n",
        "BEGIN\n",
        "   left := 0;\n",
        "   right := arr.length-1;\n",
        "   WHILE (left < right) DO\n",
        "       mid := left + (right - left)/2;\n",
        "       // check if x is present in the mid\n",
        "       IF (arr[mid] = x) THEN\n",
        "           RETURN mid;\n",
        "       END_IF\n",
        "       // if x grater, ignore the left half\n",
        "       IF (arr[mid] < x) THEN\n",
        "           left := mid+1;\n",
        "       ELSE\n",
        "       // if x is smaller, ignore the right half\n",
        "       right := mid-1;\n",
        "       END_IF\n",
        "   END_WHILE\n",
        "   // if we reached here then the element is not present\n",
        "   RETURN -1  ;\n",
        "END"
      ]
    },
    {
      "cell_type": "code",
      "source": [
        "def binary_search(A, l, h, k):\n",
        "    if h >= l:\n",
        "        mid = int(l + (h - l)/2)\n",
        "        print(mid)\n",
        "        if A[mid] == k:\n",
        "            return 'k is found'\n",
        "        elif A[mid] > k:\n",
        "            return binary_search(A, l, mid-1, k)\n",
        "        else:\n",
        "            return binary_search(A, mid+1, h, k)\n",
        "    else:\n",
        "        return 'k is not found'\n",
        "\n",
        "A=[1, 2, 7, 12, 28, 31, 40, 41, 42, 46, 59]\n",
        "k=46;l=0; h=len(A)-1;\n",
        "binary_search(A, l, h, k)"
      ],
      "metadata": {
        "id": "-LzPdG2TnMj7"
      },
      "execution_count": null,
      "outputs": []
    }
  ]
}